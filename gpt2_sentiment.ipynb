{
  "cells": [
    {
      "cell_type": "markdown",
      "metadata": {
        "id": "view-in-github",
        "colab_type": "text"
      },
      "source": [
        "<a href=\"https://colab.research.google.com/github/aurotripathy/RL-Experiments/blob/main/gpt2_sentiment.ipynb\" target=\"_parent\"><img src=\"https://colab.research.google.com/assets/colab-badge.svg\" alt=\"Open In Colab\"/></a>"
      ]
    },
    {
      "cell_type": "markdown",
      "metadata": {
        "id": "h02jjPbzhQuO"
      },
      "source": [
        "# Tune GPT2 to generate positive reviews\n",
        "> Optimise GPT2 to produce positive IMDB movie reviews using a BERT sentiment classifier as a reward function."
      ]
    },
    {
      "cell_type": "markdown",
      "metadata": {
        "id": "6R-M8LAvhQuP"
      },
      "source": [
        "<div style=\"text-align: center\">\n",
        "<img src='https://huggingface.co/datasets/trl-lib/documentation-images/resolve/main/gpt2_bert_training.png' width='600'>\n",
        "<p style=\"text-align: center;\"> <b>Figure:</b> Experiment setup to tune GPT2. The yellow arrows are outside the scope of this notebook, but the trained models are available through Hugging Face. </p>\n",
        "</div>\n",
        "\n",
        "\n",
        "In this notebook we fine-tune GPT2 (small) to generate positive movie reviews based on the IMDB dataset. The model gets the start of a real review and is tasked to produce positive continuations. To reward positive continuations, we use a BERT classifier to analyse the sentiment of the produced sentences and use the classifier's outputs as rewards signals for PPO training."
      ]
    },
    {
      "cell_type": "markdown",
      "metadata": {
        "id": "YaVdja93hQuQ"
      },
      "source": [
        "## Setup experiment"
      ]
    },
    {
      "cell_type": "markdown",
      "metadata": {
        "id": "vy9k4iw1hQuQ"
      },
      "source": [
        "### Import dependencies"
      ]
    },
    {
      "cell_type": "code",
      "execution_count": null,
      "metadata": {
        "id": "bckmC3zjhQuQ"
      },
      "outputs": [],
      "source": []
    },
    {
      "cell_type": "code",
      "execution_count": null,
      "metadata": {
        "id": "Daw2RBF1hQuR"
      },
      "outputs": [],
      "source": [
        "# This version uses an older TRL library\n",
        "%pip install transformers wandb\n",
        "%pip install trl==0.11.0"
      ]
    },
    {
      "cell_type": "code",
      "execution_count": null,
      "metadata": {
        "id": "-ke2MxxLhQuR"
      },
      "outputs": [],
      "source": [
        "import torch\n",
        "from tqdm import tqdm\n",
        "import pandas as pd\n",
        "\n",
        "tqdm.pandas()\n",
        "\n",
        "from transformers import pipeline, AutoTokenizer\n",
        "from datasets import load_dataset\n",
        "\n",
        "from trl import PPOTrainer, PPOConfig, AutoModelForCausalLMWithValueHead\n",
        "from trl.core import LengthSampler"
      ]
    },
    {
      "cell_type": "markdown",
      "metadata": {
        "id": "MyW90-tfhQuR"
      },
      "source": [
        "### Configuration"
      ]
    },
    {
      "cell_type": "code",
      "execution_count": null,
      "metadata": {
        "id": "b_tKAH-WhQuR"
      },
      "outputs": [],
      "source": [
        "config = PPOConfig(\n",
        "    learning_rate=1.41e-5,\n",
        "    log_with=\"wandb\",\n",
        ")\n",
        "\n",
        "sent_kwargs = {\"top_k\": None, \"function_to_apply\": \"none\", \"batch_size\": 16}"
      ]
    },
    {
      "cell_type": "code",
      "execution_count": null,
      "metadata": {
        "id": "W-1-XN9qhQuS"
      },
      "outputs": [],
      "source": [
        "import wandb\n",
        "\n",
        "wandb.init()"
      ]
    },
    {
      "cell_type": "markdown",
      "metadata": {
        "id": "jCtoevRUhQuS"
      },
      "source": [
        "You can see that we load a GPT2 model called `gpt2_imdb`. This model was additionally fine-tuned on the IMDB dataset for 1 epoch with the huggingface [script](https://github.com/huggingface/transformers/blob/main/examples/legacy/run_language_modeling.py) (no special settings). The other parameters are mostly taken from the original paper [\"Fine-Tuning Language Models from Human Preferences\"](\n",
        "https://huggingface.co/papers/1909.08593). This model as well as the BERT model is available in the Huggingface model zoo [here](https://huggingface.co/models). The following code should automatically download the models."
      ]
    },
    {
      "cell_type": "markdown",
      "metadata": {
        "id": "xEWolsZIhQuS"
      },
      "source": [
        "## Load data and models"
      ]
    },
    {
      "cell_type": "markdown",
      "metadata": {
        "id": "lHt1kP3fhQuS"
      },
      "source": [
        "### Load IMDB dataset\n",
        "The IMDB dataset contains 50k movie review annotated with \"positive\"/\"negative\" feedback indicating the sentiment.  We load the IMDB dataset into a DataFrame and filter for comments that are at least 200 characters. Then we tokenize each text and cut it to random size with the `LengthSampler`."
      ]
    },
    {
      "cell_type": "code",
      "execution_count": null,
      "metadata": {
        "id": "cK_X5GQyhQuS"
      },
      "outputs": [],
      "source": [
        "def build_dataset(\n",
        "    config,\n",
        "    model_name=\"gpt2\",  # Add model_name as an argument\n",
        "    dataset_name=\"stanfordnlp/imdb\",\n",
        "    input_min_text_length=2,\n",
        "    input_max_text_length=8,\n",
        "):\n",
        "    \"\"\"\n",
        "    Build dataset for training. This builds the dataset from `load_dataset`, one should\n",
        "    customize this function to train the model on its own dataset.\n",
        "\n",
        "    Args:\n",
        "        dataset_name (`str`):\n",
        "            The name of the dataset to be loaded.\n",
        "\n",
        "    Returns:\n",
        "        dataloader (`torch.utils.data.DataLoader`):\n",
        "            The dataloader for the dataset.\n",
        "    \"\"\"\n",
        "    tokenizer = AutoTokenizer.from_pretrained(model_name)  # Use model_name argument\n",
        "    tokenizer.pad_token = tokenizer.eos_token\n",
        "    # load imdb with datasets\n",
        "    ds = load_dataset(dataset_name, split=\"train\")\n",
        "    ds = ds.rename_columns({\"text\": \"review\"})\n",
        "    ds = ds.filter(lambda x: len(x[\"review\"]) > 200, batched=False)\n",
        "\n",
        "    input_size = LengthSampler(input_min_text_length, input_max_text_length)\n",
        "    print(f\"****input min text len: {input_min_text_length}, {input_max_text_length}\")\n",
        "\n",
        "    def tokenize(sample):\n",
        "        sample[\"input_ids\"] = tokenizer.encode(sample[\"review\"])[: input_size()]\n",
        "        sample[\"query\"] = tokenizer.decode(sample[\"input_ids\"])\n",
        "        return sample\n",
        "\n",
        "    ds = ds.map(tokenize, batched=False)\n",
        "    ds.set_format(type=\"torch\")\n",
        "    return ds"
      ]
    },
    {
      "cell_type": "code",
      "execution_count": null,
      "metadata": {
        "id": "JQKAxrFvhQuS"
      },
      "outputs": [],
      "source": [
        "dataset = build_dataset(config, model_name=\"gpt2\")  # Pass model_name here\n",
        "\n",
        "\n",
        "def collator(data):\n",
        "    return dict((key, [d[key] for d in data]) for key in data[0])"
      ]
    },
    {
      "cell_type": "markdown",
      "metadata": {
        "id": "B93v9-mLhQuS"
      },
      "source": [
        "### Load pre-trained GPT2 language models"
      ]
    },
    {
      "cell_type": "markdown",
      "metadata": {
        "id": "7DfX6a0jhQuS"
      },
      "source": [
        "We load the GPT2 model with a value head and the tokenizer. We load the model twice; the first model is optimized while the second model serves as a reference to calculate the KL-divergence from the starting point. This serves as an additional reward signal in the PPO training to make sure the optimized model does not deviate too much from the original language model."
      ]
    },
    {
      "cell_type": "code",
      "execution_count": null,
      "metadata": {
        "id": "zJVu0EgDhQuS"
      },
      "outputs": [],
      "source": [
        "model = AutoModelForCausalLMWithValueHead.from_pretrained(\"gpt2\")\n",
        "ref_model = AutoModelForCausalLMWithValueHead.from_pretrained(\"gpt2\")\n",
        "tokenizer = AutoTokenizer.from_pretrained(\"gpt2\")\n",
        "\n",
        "tokenizer.pad_token = tokenizer.eos_token"
      ]
    },
    {
      "cell_type": "markdown",
      "metadata": {
        "id": "2wpshitKhQuT"
      },
      "source": [
        "### Initialize PPOTrainer\n",
        "The `PPOTrainer` takes care of device placement and optimization later on:"
      ]
    },
    {
      "cell_type": "code",
      "execution_count": null,
      "metadata": {
        "id": "rIAW2rRlhQuT"
      },
      "outputs": [],
      "source": [
        "ppo_trainer = PPOTrainer(\n",
        "    config, model, ref_model, tokenizer\n",
        ")"
      ]
    },
    {
      "cell_type": "markdown",
      "metadata": {
        "id": "p-zzp7qThQuT"
      },
      "source": [
        "### Load BERT classifier\n",
        "We load a BERT classifier fine-tuned on the IMDB dataset."
      ]
    },
    {
      "cell_type": "code",
      "execution_count": null,
      "metadata": {
        "id": "g_uObrothQuT"
      },
      "outputs": [],
      "source": [
        "device = ppo_trainer.accelerator.device\n",
        "if ppo_trainer.accelerator.num_processes == 1:\n",
        "    device = 0 if torch.cuda.is_available() else \"cpu\"  # to avoid a `pipeline` bug\n",
        "sentiment_pipe = pipeline(\n",
        "    \"sentiment-analysis\", model=\"lvwerra/distilbert-imdb\", device=device\n",
        ")"
      ]
    },
    {
      "cell_type": "markdown",
      "metadata": {
        "id": "n-DquINdhQuT"
      },
      "source": [
        "The model outputs are the logits for the negative and positive class. We will use the logits for positive class as a reward signal for the language model."
      ]
    },
    {
      "cell_type": "code",
      "execution_count": null,
      "metadata": {
        "id": "__6NgorIhQuT"
      },
      "outputs": [],
      "source": [
        "text = \"this movie was really bad!!\"\n",
        "sentiment_pipe(text, **sent_kwargs)"
      ]
    },
    {
      "cell_type": "code",
      "execution_count": null,
      "metadata": {
        "id": "2_VOHM3whQuU"
      },
      "outputs": [],
      "source": [
        "text = \"this movie was really good!!\"\n",
        "sentiment_pipe(text, **sent_kwargs)"
      ]
    },
    {
      "cell_type": "markdown",
      "metadata": {
        "id": "KPe9M3b0hQuU"
      },
      "source": [
        "### Generation settings\n",
        "For the response generation we just use sampling and make sure top-k and nucleus sampling are turned off as well as a minimal length."
      ]
    },
    {
      "cell_type": "code",
      "execution_count": null,
      "metadata": {
        "id": "Ed-n3iFhhQuU"
      },
      "outputs": [],
      "source": [
        "gen_kwargs = {\n",
        "    \"min_length\": -1,\n",
        "    \"top_k\": 0.0,\n",
        "    \"top_p\": 1.0,\n",
        "    \"do_sample\": True,\n",
        "    \"pad_token_id\": tokenizer.eos_token_id,\n",
        "}"
      ]
    },
    {
      "cell_type": "markdown",
      "metadata": {
        "id": "365T9F8AhQuU"
      },
      "source": [
        "## Optimize model"
      ]
    },
    {
      "cell_type": "markdown",
      "metadata": {
        "id": "v8UFsDBhhQuU"
      },
      "source": [
        "### Training loop"
      ]
    },
    {
      "cell_type": "markdown",
      "metadata": {
        "id": "1JLqmgUChQuU"
      },
      "source": [
        "The training loop consists of the following main steps:\n",
        "1. Get the query responses from the policy network (GPT-2)\n",
        "2. Get sentiments for query/responses from BERT\n",
        "3. Optimize policy with PPO using the (query, response, reward) triplet\n",
        "\n",
        "**Training time**\n",
        "\n",
        "This step takes **~2h** on a V100 GPU with the above specified settings."
      ]
    },
    {
      "cell_type": "code",
      "metadata": {
        "id": "1e1ad366"
      },
      "source": [
        "from torch.utils.data import DataLoader\n",
        "\n",
        "dataloader = DataLoader(dataset, batch_size=config.batch_size, collate_fn=collator)\n",
        "ppo_trainer.dataloader = dataloader"
      ],
      "execution_count": null,
      "outputs": []
    },
    {
      "cell_type": "code",
      "execution_count": null,
      "metadata": {
        "id": "U2cuf1W0hQuU"
      },
      "outputs": [],
      "source": [
        "output_min_length = 4\n",
        "output_max_length = 16\n",
        "output_length_sampler = LengthSampler(output_min_length, output_max_length)\n",
        "\n",
        "\n",
        "generation_kwargs = {\n",
        "    \"min_length\": -1,\n",
        "    \"top_k\": 0.0,\n",
        "    \"top_p\": 1.0,\n",
        "    \"do_sample\": True,\n",
        "    \"pad_token_id\": tokenizer.eos_token_id,\n",
        "}\n",
        "\n",
        "\n",
        "for epoch, batch in enumerate(tqdm(ppo_trainer.dataloader)):\n",
        "    print(f\"epoch:{epoch}, len batch:{len(batch)}\")\n",
        "    query_tensors = batch[\"input_ids\"]\n",
        "    if len(query_tensors) < 128:\n",
        "        print(f\"query_tensors: {query_tensors} probably the last batch...breaking\")\n",
        "        break\n",
        "    # print(f\"len query_tensors: {len(query_tensors)}\")\n",
        "    # Move query_tensors to the correct device\n",
        "    query_tensors = [query.to(device) for query in query_tensors]\n",
        "\n",
        "\n",
        "    #### Get response from gpt2\n",
        "    response_tensors = []\n",
        "    for query in query_tensors:\n",
        "        gen_len = output_length_sampler()\n",
        "        generation_kwargs[\"max_new_tokens\"] = gen_len\n",
        "        # query is already on the correct device\n",
        "        query_response = ppo_trainer.generate(query, **generation_kwargs).squeeze()\n",
        "        response_len = len(query_response) - len(query)\n",
        "        response_tensors.append(query_response[-response_len:])\n",
        "    batch[\"response\"] = [tokenizer.decode(r.squeeze()) for r in response_tensors]\n",
        "\n",
        "    #### Compute sentiment score\n",
        "    texts = [q + r for q, r in zip(batch[\"query\"], batch[\"response\"])]\n",
        "    pipe_outputs = sentiment_pipe(texts, **sent_kwargs)\n",
        "    positive_scores = [\n",
        "        item[\"score\"]\n",
        "        for output in pipe_outputs\n",
        "        for item in output\n",
        "        if item[\"label\"] == \"POSITIVE\"\n",
        "    ]\n",
        "    rewards = [torch.tensor(score) for score in positive_scores]\n",
        "    # Move rewards to the correct device\n",
        "    rewards = [reward.to(device) for reward in rewards]\n",
        "\n",
        "\n",
        "    #### Run PPO step\n",
        "    # print(f'running PPO step')\n",
        "    stats = ppo_trainer.step(query_tensors, response_tensors, rewards)\n",
        "    ppo_trainer.log_stats(stats, batch, rewards)"
      ]
    },
    {
      "cell_type": "markdown",
      "metadata": {
        "id": "NJyZHWeAhQuU"
      },
      "source": [
        "### Training progress\n",
        "If you are tracking the training progress with Weights&Biases you should see a plot similar to the one below. Check out the interactive sample report on wandb.ai: [link](https://wandb.ai/huggingface/trl/runs/w9l3110g).\n",
        "\n",
        "<div style=\"text-align: center\">\n",
        "<img src='https://huggingface.co/datasets/trl-internal-testing/example-images/resolve/main/images/gpt2_tuning_progress.png' width='800'>\n",
        "<p style=\"text-align: center;\"> <b>Figure:</b> Reward mean and distribution evolution during training. </p>\n",
        "</div>\n",
        "\n",
        "One can observe how the model starts to generate more positive outputs after a few optimisation steps.\n",
        "\n",
        "> Note: Investigating the KL-divergence will probably show that at this point the model has not converged to the target KL-divergence, yet. To get there would require longer training or starting with a higher initial coefficient."
      ]
    },
    {
      "cell_type": "markdown",
      "metadata": {
        "id": "Y280sRkwhQuU"
      },
      "source": [
        "## Model inspection\n",
        "Let's inspect some examples from the IMDB dataset. We can use `ref_model` to compare the tuned model `model` against the model before optimisation."
      ]
    },
    {
      "cell_type": "code",
      "execution_count": null,
      "metadata": {
        "id": "bEiJo2FchQuU"
      },
      "outputs": [],
      "source": [
        "#### get a batch from the dataset\n",
        "bs = 16\n",
        "game_data = dict()\n",
        "dataset.set_format(\"pandas\")\n",
        "df_batch = dataset[:].sample(bs)\n",
        "game_data[\"query\"] = df_batch[\"query\"].tolist()\n",
        "query_tensors = df_batch[\"input_ids\"].tolist()\n",
        "\n",
        "response_tensors_ref, response_tensors = [], []\n",
        "\n",
        "#### get response from gpt2 and gpt2_ref\n",
        "for i in range(bs):\n",
        "    query = torch.tensor(query_tensors[i]).to(device)\n",
        "\n",
        "    gen_len = output_length_sampler()\n",
        "    query_response = ref_model.generate(\n",
        "        query.unsqueeze(0), max_new_tokens=gen_len, **gen_kwargs\n",
        "    ).squeeze()\n",
        "    response_len = len(query_response) - len(query)\n",
        "    response_tensors_ref.append(query_response[-response_len:])\n",
        "\n",
        "    query_response = model.generate(\n",
        "        query.unsqueeze(0), max_new_tokens=gen_len, **gen_kwargs\n",
        "    ).squeeze()\n",
        "    response_len = len(query_response) - len(query)\n",
        "    response_tensors.append(query_response[-response_len:])\n",
        "\n",
        "#### decode responses\n",
        "game_data[\"response (before)\"] = [\n",
        "    tokenizer.decode(response_tensors_ref[i]) for i in range(bs)\n",
        "]\n",
        "game_data[\"response (after)\"] = [\n",
        "    tokenizer.decode(response_tensors[i]) for i in range(bs)\n",
        "]\n",
        "\n",
        "#### sentiment analysis of query/response pairs before/after\n",
        "texts = [q + r for q, r in zip(game_data[\"query\"], game_data[\"response (before)\"])]\n",
        "pipe_outputs = sentiment_pipe(texts, **sent_kwargs)\n",
        "positive_scores = [\n",
        "    item[\"score\"]\n",
        "    for output in pipe_outputs\n",
        "    for item in output\n",
        "    if item[\"label\"] == \"POSITIVE\"\n",
        "]\n",
        "game_data[\"rewards (before)\"] = positive_scores\n",
        "\n",
        "texts = [q + r for q, r in zip(game_data[\"query\"], game_data[\"response (after)\"])]\n",
        "pipe_outputs = sentiment_pipe(texts, **sent_kwargs)\n",
        "positive_scores = [\n",
        "    item[\"score\"]\n",
        "    for output in pipe_outputs\n",
        "    for item in output\n",
        "    if item[\"label\"] == \"POSITIVE\"\n",
        "]\n",
        "game_data[\"rewards (after)\"] = positive_scores\n",
        "\n",
        "# store results in a dataframe\n",
        "df_results = pd.DataFrame(game_data)\n",
        "df_results"
      ]
    },
    {
      "cell_type": "markdown",
      "metadata": {
        "id": "1IZbJy-6hQuU"
      },
      "source": [
        "Looking at the reward mean/median of the generated sequences we observe a significant difference."
      ]
    },
    {
      "cell_type": "code",
      "execution_count": null,
      "metadata": {
        "id": "HWk_tOJThQuV"
      },
      "outputs": [],
      "source": [
        "print(\"mean:\")\n",
        "display(df_results[[\"rewards (before)\", \"rewards (after)\"]].mean())\n",
        "print()\n",
        "print(\"median:\")\n",
        "display(df_results[[\"rewards (before)\", \"rewards (after)\"]].median())"
      ]
    },
    {
      "cell_type": "markdown",
      "metadata": {
        "id": "IWJL3Ea4hQuV"
      },
      "source": [
        "## Save model\n",
        "Finally, we save the model and push it to the Hugging Face for later usage."
      ]
    },
    {
      "cell_type": "code",
      "execution_count": null,
      "metadata": {
        "id": "rxG0JT6AhQuV"
      },
      "outputs": [],
      "source": [
        "# model.save_pretrained(\"gpt2-imdb-pos-v2\", push_to_hub=True)\n",
        "# tokenizer.save_pretrained(\"gpt2-imdb-pos-v2\", push_to_hub=True)"
      ]
    }
  ],
  "metadata": {
    "kernelspec": {
      "display_name": "Python 3",
      "name": "python3"
    },
    "language_info": {
      "codemirror_mode": {
        "name": "ipython",
        "version": 3
      },
      "file_extension": ".py",
      "mimetype": "text/x-python",
      "name": "python",
      "nbconvert_exporter": "python",
      "pygments_lexer": "ipython3",
      "version": "3.11.9"
    },
    "vscode": {
      "interpreter": {
        "hash": "4c8ff454cd947027f86954d72bf940c689a97dcc494eb53cfe4813862c6065fe"
      }
    },
    "colab": {
      "provenance": [],
      "machine_shape": "hm",
      "gpuType": "L4",
      "include_colab_link": true
    },
    "accelerator": "GPU"
  },
  "nbformat": 4,
  "nbformat_minor": 0
}