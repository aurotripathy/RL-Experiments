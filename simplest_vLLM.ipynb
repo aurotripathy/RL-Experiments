{
  "nbformat": 4,
  "nbformat_minor": 0,
  "metadata": {
    "colab": {
      "provenance": [],
      "machine_shape": "hm",
      "gpuType": "A100",
      "authorship_tag": "ABX9TyM2IguVeknt5Vmx9g8J9Rbi",
      "include_colab_link": true
    },
    "kernelspec": {
      "name": "python3",
      "display_name": "Python 3"
    },
    "language_info": {
      "name": "python"
    },
    "accelerator": "GPU"
  },
  "cells": [
    {
      "cell_type": "markdown",
      "metadata": {
        "id": "view-in-github",
        "colab_type": "text"
      },
      "source": [
        "<a href=\"https://colab.research.google.com/github/aurotripathy/RL-Experiments/blob/main/simplest_vLLM.ipynb\" target=\"_parent\"><img src=\"https://colab.research.google.com/assets/colab-badge.svg\" alt=\"Open In Colab\"/></a>"
      ]
    },
    {
      "cell_type": "code",
      "source": [
        "!nvidia-smi"
      ],
      "metadata": {
        "id": "nxymXMNYCnYN"
      },
      "execution_count": null,
      "outputs": []
    },
    {
      "cell_type": "markdown",
      "source": [],
      "metadata": {
        "id": "DKjRMj3vXGMy"
      }
    },
    {
      "cell_type": "code",
      "source": [],
      "metadata": {
        "id": "mCwBShAoXGss"
      },
      "execution_count": null,
      "outputs": []
    },
    {
      "cell_type": "code",
      "metadata": {
        "id": "eaabfa8c"
      },
      "source": [
        "%pip install transformers accelerate bitsandbytes"
      ],
      "execution_count": null,
      "outputs": []
    },
    {
      "cell_type": "markdown",
      "metadata": {
        "id": "1a4321f2"
      },
      "source": [
        "**Reasoning**:\n",
        "Import the necessary classes from the transformers library and load the tokenizer and model.\n",
        "\n"
      ]
    },
    {
      "cell_type": "code",
      "source": [
        "%pip install vllm"
      ],
      "metadata": {
        "id": "sHsi16JvI2yA"
      },
      "execution_count": null,
      "outputs": []
    },
    {
      "cell_type": "code",
      "source": [
        "    from vllm import LLM\n",
        "    # llm = LLM(model=\"mistralai/Mistral-7B-v0.1\")\n",
        "    llm = LLM(model=\"openai/gpt-oss-20b\")"
      ],
      "metadata": {
        "id": "2zWMc0A-ORnt"
      },
      "execution_count": null,
      "outputs": []
    },
    {
      "cell_type": "code",
      "source": [
        "    prompts = [\n",
        "        \"What is the capital of France?\",\n",
        "        \"What is the meaning of life?\",\n",
        "        \"What is the largest planet in our solar system?\"\n",
        "\n",
        "    ]\n",
        "\n",
        "    sampling_params = {\n",
        "        \"temperature\": 0.8,\n",
        "        \"top_p\": 0.95,\n",
        "        \"max_tokens\": 100\n",
        "    }"
      ],
      "metadata": {
        "id": "m3Cgjp9WPPCo"
      },
      "execution_count": null,
      "outputs": []
    },
    {
      "cell_type": "code",
      "source": [
        "from vllm import SamplingParams\n",
        "\n",
        "sampling_params_obj = SamplingParams(**sampling_params)\n",
        "outputs = llm.generate(prompts, sampling_params=sampling_params_obj)\n",
        "\n",
        "for output in outputs:\n",
        "    prompt = output.prompt\n",
        "    generated_text = output.outputs[0].text\n",
        "    print(f\"Prompt: {prompt!r}, Generated text: {generated_text!r}\")"
      ],
      "metadata": {
        "id": "yt212ryVSXwk"
      },
      "execution_count": null,
      "outputs": []
    },
    {
      "cell_type": "code",
      "source": [],
      "metadata": {
        "id": "m8fq4uJcSyJ_"
      },
      "execution_count": null,
      "outputs": []
    }
  ]
}